{
  "nbformat": 4,
  "nbformat_minor": 0,
  "metadata": {
    "colab": {
      "provenance": [],
      "collapsed_sections": [
        "iFqb2uQiLB5f",
        "MftwR3ypLEtM",
        "wv6Sn9j4LNDa"
      ],
      "include_colab_link": true
    },
    "kernelspec": {
      "name": "python3",
      "display_name": "Python 3"
    },
    "language_info": {
      "name": "python"
    }
  },
  "cells": [
    {
      "cell_type": "markdown",
      "metadata": {
        "id": "view-in-github",
        "colab_type": "text"
      },
      "source": [
        "<a href=\"https://colab.research.google.com/github/pachterlab/BI-BE-CS-183-2023/blob/main/HW1/pythonReview.ipynb\" target=\"_parent\"><img src=\"https://colab.research.google.com/assets/colab-badge.svg\" alt=\"Open In Colab\"/></a>"
      ]
    },
    {
      "cell_type": "markdown",
      "source": [
        "Bi/Be/Cs 183 2022-2023: Intro to Computational Biology\n",
        "TAs: Meichen Fang, Tara Chari, Zitong (Jerry) Wang\n"
      ],
      "metadata": {
        "id": "CJWsLrvy0eWd"
      }
    },
    {
      "cell_type": "code",
      "metadata": {
        "id": "_tty4AYi77ys"
      },
      "source": [
        "#To run a code cell, select the cell and hit Command/Ctrl+Enter or click the run/play symbol\n",
        "#Click Insert --> Code Cell or the '+ Code' option to insert a new code cell"
      ],
      "execution_count": null,
      "outputs": []
    },
    {
      "cell_type": "code",
      "metadata": {
        "id": "BAjFr_0y8Sxb"
      },
      "source": [
        "#Click Insert --> Text Cell or the '+ Text' option to insert a cell for text as below"
      ],
      "execution_count": null,
      "outputs": []
    },
    {
      "cell_type": "markdown",
      "metadata": {
        "id": "MozW3XxY8ezr"
      },
      "source": [
        "Text here for descriptions, explanations, etc"
      ]
    },
    {
      "cell_type": "markdown",
      "metadata": {
        "id": "u00RYDUlGu-T"
      },
      "source": [
        "## **Variables and Data Types**"
      ]
    },
    {
      "cell_type": "markdown",
      "metadata": {
        "id": "v-h-je1vHItn"
      },
      "source": [
        "Numerical Types"
      ]
    },
    {
      "cell_type": "code",
      "metadata": {
        "id": "SAE_gD-GG0KX"
      },
      "source": [
        "#Integers\n",
        "x = 10\n",
        "y = -50\n",
        "\n",
        "#Float\n",
        "a = 10.0\n",
        "\n",
        "#Complex\n",
        "c = 3.14j\n",
        "\n"
      ],
      "execution_count": null,
      "outputs": []
    },
    {
      "cell_type": "code",
      "metadata": {
        "id": "v4b3DzBtH-Ld",
        "colab": {
          "base_uri": "https://localhost:8080/"
        },
        "outputId": "42324705-dde9-4d93-e9eb-8dae9236d7e9"
      },
      "source": [
        "#Print function (built-in)\n",
        "print(x)\n",
        "print(y)\n",
        "\n",
        "print(a)\n",
        "\n",
        "print(c)"
      ],
      "execution_count": null,
      "outputs": [
        {
          "output_type": "stream",
          "name": "stdout",
          "text": [
            "10\n",
            "-50\n",
            "10.0\n",
            "3.14j\n"
          ]
        }
      ]
    },
    {
      "cell_type": "code",
      "metadata": {
        "id": "5Xy-EQlPH_8U"
      },
      "source": [
        "#Assign multiple variables at the same time\n",
        "a = b = c = 5\n",
        "\n",
        "i,j,k = 1,2,3\n"
      ],
      "execution_count": null,
      "outputs": []
    },
    {
      "cell_type": "code",
      "metadata": {
        "id": "HAIWQQLcIPJO"
      },
      "source": [
        "b = 3\n"
      ],
      "execution_count": null,
      "outputs": []
    },
    {
      "cell_type": "code",
      "metadata": {
        "colab": {
          "base_uri": "https://localhost:8080/"
        },
        "id": "xboeAMDxzbwz",
        "outputId": "c401e91a-5975-4f18-de5c-16b6e7492497"
      },
      "source": [
        "a"
      ],
      "execution_count": null,
      "outputs": [
        {
          "output_type": "execute_result",
          "data": {
            "text/plain": [
              "5"
            ]
          },
          "metadata": {},
          "execution_count": 16
        }
      ]
    },
    {
      "cell_type": "markdown",
      "metadata": {
        "id": "DZvja8C1Hrbe"
      },
      "source": [
        "Strings"
      ]
    },
    {
      "cell_type": "code",
      "metadata": {
        "colab": {
          "base_uri": "https://localhost:8080/"
        },
        "id": "9cLUs5OnHR40",
        "outputId": "902aab2e-32e8-4d16-efdb-985a70e98d14"
      },
      "source": [
        "word = 'Hello World!'\n",
        "\n",
        "# Prints complete string\n",
        "print(word)\n",
        "# Prints first character of the string\n",
        "print(word[0])\n",
        "\n",
        "# Prints third through fifth characters\n",
        "print(word[2:5]) #2:5, "
      ],
      "execution_count": null,
      "outputs": [
        {
          "output_type": "stream",
          "name": "stdout",
          "text": [
            "Hello World!\n",
            "H\n",
            "llo\n"
          ]
        }
      ]
    },
    {
      "cell_type": "code",
      "metadata": {
        "colab": {
          "base_uri": "https://localhost:8080/",
          "height": 187
        },
        "id": "Tb2LPfLy0EVX",
        "outputId": "428c8a1b-b8fd-45f5-95de-70e8813f36b1"
      },
      "source": [
        "#cannot do\n",
        "word[0] = 'B'"
      ],
      "execution_count": null,
      "outputs": [
        {
          "output_type": "error",
          "ename": "TypeError",
          "evalue": "ignored",
          "traceback": [
            "\u001b[0;31m---------------------------------------------------------------------------\u001b[0m",
            "\u001b[0;31mTypeError\u001b[0m                                 Traceback (most recent call last)",
            "\u001b[0;32m<ipython-input-18-0ac02e901a07>\u001b[0m in \u001b[0;36m<module>\u001b[0;34m\u001b[0m\n\u001b[1;32m      1\u001b[0m \u001b[0;31m#cannot do\u001b[0m\u001b[0;34m\u001b[0m\u001b[0;34m\u001b[0m\u001b[0;34m\u001b[0m\u001b[0m\n\u001b[0;32m----> 2\u001b[0;31m \u001b[0mword\u001b[0m\u001b[0;34m[\u001b[0m\u001b[0;36m0\u001b[0m\u001b[0;34m]\u001b[0m \u001b[0;34m=\u001b[0m \u001b[0;34m'B'\u001b[0m\u001b[0;34m\u001b[0m\u001b[0;34m\u001b[0m\u001b[0m\n\u001b[0m",
            "\u001b[0;31mTypeError\u001b[0m: 'str' object does not support item assignment"
          ]
        }
      ]
    },
    {
      "cell_type": "code",
      "metadata": {
        "id": "ORahg7muUvFH"
      },
      "source": [
        "#Indexing starts at 0\n",
        "#0:5 is 0,1,2,3,4"
      ],
      "execution_count": null,
      "outputs": []
    },
    {
      "cell_type": "markdown",
      "metadata": {
        "id": "hFUk4qCrHsQu"
      },
      "source": [
        "Lists: Can change their size and their elements"
      ]
    },
    {
      "cell_type": "code",
      "metadata": {
        "id": "eVCoUlQgHskZ",
        "colab": {
          "base_uri": "https://localhost:8080/"
        },
        "outputId": "6ec7a636-79b5-48a3-881e-e8dd79732ac1"
      },
      "source": [
        "l = [ 'abcd', 786 , 2.23, 'john', 70.2 ]\n",
        "small_l = [123, 'john']\n",
        "\n",
        "# Prints complete list\n",
        "print(l)\n",
        "# Prints first element of the list\n",
        "print(l[0])\n",
        "# Prints elements starting from 2nd till 3rd \n",
        "print(l[1:3])\n",
        "# Prints elements starting from 3rd element\n",
        "print(l[2:])"
      ],
      "execution_count": null,
      "outputs": [
        {
          "output_type": "stream",
          "name": "stdout",
          "text": [
            "['abcd', 786, 2.23, 'john', 70.2]\n",
            "abcd\n",
            "[786, 2.23]\n",
            "[2.23, 'john', 70.2]\n"
          ]
        }
      ]
    },
    {
      "cell_type": "code",
      "metadata": {
        "id": "XFyWilxB0eHh",
        "colab": {
          "base_uri": "https://localhost:8080/"
        },
        "outputId": "0c0b40bc-c8f2-4d8c-ed35-2f6b6d1775be"
      },
      "source": [
        "l[-1]"
      ],
      "execution_count": null,
      "outputs": [
        {
          "output_type": "execute_result",
          "data": {
            "text/plain": [
              "70.2"
            ]
          },
          "metadata": {},
          "execution_count": 21
        }
      ]
    },
    {
      "cell_type": "code",
      "metadata": {
        "id": "-hsxavohKp6X",
        "colab": {
          "base_uri": "https://localhost:8080/"
        },
        "outputId": "9e2aa95e-971a-4046-e47b-ca2b4cec7e76"
      },
      "source": [
        "# Prints list two times\n",
        "print(small_l * 2)\n",
        "# Prints concatenated lists\n",
        "print(small_l + small_l +small_l)"
      ],
      "execution_count": null,
      "outputs": [
        {
          "output_type": "stream",
          "name": "stdout",
          "text": [
            "[123, 'john', 123, 'john']\n",
            "[123, 'john', 123, 'john', 123, 'john']\n"
          ]
        }
      ]
    },
    {
      "cell_type": "code",
      "metadata": {
        "id": "AwDYqF20KzKr",
        "colab": {
          "base_uri": "https://localhost:8080/"
        },
        "outputId": "b88fb7c5-6daa-40d7-d2ca-f6dad928dc25"
      },
      "source": [
        "small_l == [123, 'john']\n"
      ],
      "execution_count": null,
      "outputs": [
        {
          "output_type": "execute_result",
          "data": {
            "text/plain": [
              "True"
            ]
          },
          "metadata": {},
          "execution_count": 23
        }
      ]
    },
    {
      "cell_type": "code",
      "metadata": {
        "id": "IjjI0Mbd06j8",
        "colab": {
          "base_uri": "https://localhost:8080/"
        },
        "outputId": "ce3bfbd6-0b00-47ac-baa6-91cc6cb1b353"
      },
      "source": [
        "123 in small_l"
      ],
      "execution_count": null,
      "outputs": [
        {
          "output_type": "execute_result",
          "data": {
            "text/plain": [
              "True"
            ]
          },
          "metadata": {},
          "execution_count": 24
        }
      ]
    },
    {
      "cell_type": "code",
      "metadata": {
        "id": "l7pawKCBKXQY"
      },
      "source": [
        "#Don't call variables 'list' (or str)\n",
        "#list = [1,2,3]\n",
        "\n",
        "#d = list([1,2,3]) will give an error"
      ],
      "execution_count": null,
      "outputs": []
    },
    {
      "cell_type": "markdown",
      "metadata": {
        "id": "XZISIhswHtJB"
      },
      "source": [
        "Tuples: Essentially 'Read-only'"
      ]
    },
    {
      "cell_type": "code",
      "metadata": {
        "id": "tvsV48cmHuCp",
        "colab": {
          "base_uri": "https://localhost:8080/"
        },
        "outputId": "e793baf6-c07a-46ee-dd30-b017e98ff2ee"
      },
      "source": [
        "tup = ( 'abcd', 786 , 2.23, 'john', 70.2  )\n",
        "small_tup = (123, 'john')\n",
        "\n",
        "# Prints the complete tuple\n",
        "print(tup)\n",
        "# Prints first element of the tuple\n",
        "print(tup[0])\n",
        "# Prints elements of the tuple starting from 2nd till 3rd \n",
        "print(tup[1:3])\n",
        "# Prints elements of the tuple starting from 3rd element\n",
        "print(tup[2:])\n",
        "# Prints the contents of the tuple twice\n",
        "print(small_tup *2)\n",
        "# Prints concatenated tuples\n",
        "print(tup + small_tup)"
      ],
      "execution_count": null,
      "outputs": [
        {
          "output_type": "stream",
          "name": "stdout",
          "text": [
            "('abcd', 786, 2.23, 'john', 70.2)\n",
            "abcd\n",
            "(786, 2.23)\n",
            "(2.23, 'john', 70.2)\n",
            "(123, 'john', 123, 'john')\n",
            "('abcd', 786, 2.23, 'john', 70.2, 123, 'john')\n"
          ]
        }
      ]
    },
    {
      "cell_type": "code",
      "metadata": {
        "id": "8COqwwWqQPSd",
        "colab": {
          "base_uri": "https://localhost:8080/",
          "height": 187
        },
        "outputId": "c23a8aca-5131-4fc5-82f5-8fd5fdf6e31b"
      },
      "source": [
        "#Cannot do\n",
        "tup[2] = 5"
      ],
      "execution_count": null,
      "outputs": [
        {
          "output_type": "error",
          "ename": "TypeError",
          "evalue": "ignored",
          "traceback": [
            "\u001b[0;31m---------------------------------------------------------------------------\u001b[0m",
            "\u001b[0;31mTypeError\u001b[0m                                 Traceback (most recent call last)",
            "\u001b[0;32m<ipython-input-27-aef1ea126a4c>\u001b[0m in \u001b[0;36m<module>\u001b[0;34m\u001b[0m\n\u001b[1;32m      1\u001b[0m \u001b[0;31m#Cannot do\u001b[0m\u001b[0;34m\u001b[0m\u001b[0;34m\u001b[0m\u001b[0;34m\u001b[0m\u001b[0m\n\u001b[0;32m----> 2\u001b[0;31m \u001b[0mtup\u001b[0m\u001b[0;34m[\u001b[0m\u001b[0;36m2\u001b[0m\u001b[0;34m]\u001b[0m \u001b[0;34m=\u001b[0m \u001b[0;36m5\u001b[0m\u001b[0;34m\u001b[0m\u001b[0;34m\u001b[0m\u001b[0m\n\u001b[0m",
            "\u001b[0;31mTypeError\u001b[0m: 'tuple' object does not support item assignment"
          ]
        }
      ]
    },
    {
      "cell_type": "code",
      "metadata": {
        "id": "vmFcGb1C1kCM"
      },
      "source": [
        "l = [1,2,3]\n",
        "l"
      ],
      "execution_count": null,
      "outputs": []
    },
    {
      "cell_type": "code",
      "metadata": {
        "id": "Ldwidz381nID",
        "colab": {
          "base_uri": "https://localhost:8080/"
        },
        "outputId": "b01f5af4-7443-4090-fe3e-691d0a0958e2"
      },
      "source": [
        "l[0] = 4\n",
        "l"
      ],
      "execution_count": null,
      "outputs": [
        {
          "output_type": "execute_result",
          "data": {
            "text/plain": [
              "[4, 786, 2.23, 'john', 70.2]"
            ]
          },
          "metadata": {},
          "execution_count": 28
        }
      ]
    },
    {
      "cell_type": "markdown",
      "metadata": {
        "id": "YhsRGyEWHuZv"
      },
      "source": [
        "Dictionaries"
      ]
    },
    {
      "cell_type": "code",
      "metadata": {
        "id": "osMjYsCW11Xt",
        "colab": {
          "base_uri": "https://localhost:8080/"
        },
        "outputId": "31e69e8a-79aa-4daa-96c8-ffcfe1f1b7cb"
      },
      "source": [
        "\n",
        "grads = {}\n",
        "grads"
      ],
      "execution_count": null,
      "outputs": [
        {
          "output_type": "execute_result",
          "data": {
            "text/plain": [
              "{}"
            ]
          },
          "metadata": {},
          "execution_count": 29
        }
      ]
    },
    {
      "cell_type": "code",
      "metadata": {
        "id": "3cs1E4blHvJZ",
        "colab": {
          "base_uri": "https://localhost:8080/"
        },
        "outputId": "8a185fc0-1b7e-4d3a-fd57-73969280a6fd"
      },
      "source": [
        "grads = {}\n",
        "\n",
        "#Add elements\n",
        "\n",
        "grads['Amy'] = \"G4\"\n",
        "grads['James'] = \"G2\"\n",
        "grads['Total'] = 2\n",
        "\n",
        "# Prints complete dictionary\n",
        "print(grads)\n",
        "# Prints value for Amy key\n",
        "print(grads['Amy'])\n",
        "\n",
        "# Prints all the keys\n",
        "print(grads.keys())\n",
        "# Prints all the values\n",
        "print(grads.values())"
      ],
      "execution_count": null,
      "outputs": [
        {
          "output_type": "stream",
          "name": "stdout",
          "text": [
            "{'Amy': 'G4', 'James': 'G2', 'Total': 2}\n",
            "G4\n",
            "dict_keys(['Amy', 'James', 'Total'])\n",
            "dict_values(['G4', 'G2', 2])\n"
          ]
        }
      ]
    },
    {
      "cell_type": "code",
      "metadata": {
        "id": "6-g2XZOz2dH-",
        "colab": {
          "base_uri": "https://localhost:8080/"
        },
        "outputId": "bfc8a84f-c3d9-46b0-caf5-b1a1dbc7aaf2"
      },
      "source": [
        "print(grads['Amy'])"
      ],
      "execution_count": null,
      "outputs": [
        {
          "output_type": "stream",
          "name": "stdout",
          "text": [
            "G4\n"
          ]
        }
      ]
    },
    {
      "cell_type": "markdown",
      "metadata": {
        "id": "gniwE8r_Hvg2"
      },
      "source": [
        "Conversions"
      ]
    },
    {
      "cell_type": "code",
      "metadata": {
        "id": "dlHkefFCS1sk",
        "colab": {
          "base_uri": "https://localhost:8080/"
        },
        "outputId": "b2eee68e-5b72-412a-beb9-1d4a34e9933b"
      },
      "source": [
        "#int(), str(), list() all functions\n",
        "\n",
        "f = 32.9\n",
        "#Not a rounding function\n",
        "int(f)"
      ],
      "execution_count": null,
      "outputs": [
        {
          "output_type": "execute_result",
          "data": {
            "text/plain": [
              "32"
            ]
          },
          "metadata": {},
          "execution_count": 32
        }
      ]
    },
    {
      "cell_type": "code",
      "metadata": {
        "id": "n9z1fT2tTqAb",
        "colab": {
          "base_uri": "https://localhost:8080/",
          "height": 35
        },
        "outputId": "e73dd4d1-fb1b-4572-c383-f59501bbd5b9"
      },
      "source": [
        "#Convert to string\n",
        "i = 32\n",
        "str(i)"
      ],
      "execution_count": null,
      "outputs": [
        {
          "output_type": "execute_result",
          "data": {
            "text/plain": [
              "'32'"
            ],
            "application/vnd.google.colaboratory.intrinsic+json": {
              "type": "string"
            }
          },
          "metadata": {},
          "execution_count": 33
        }
      ]
    },
    {
      "cell_type": "code",
      "metadata": {
        "id": "FnJyz1i_Trko",
        "colab": {
          "base_uri": "https://localhost:8080/",
          "height": 35
        },
        "outputId": "3b3bf550-07b0-43f0-cd93-2af6972cdd8f"
      },
      "source": [
        "#Concatenate strings \n",
        "str(i) + str(i)"
      ],
      "execution_count": null,
      "outputs": [
        {
          "output_type": "execute_result",
          "data": {
            "text/plain": [
              "'3232'"
            ],
            "application/vnd.google.colaboratory.intrinsic+json": {
              "type": "string"
            }
          },
          "metadata": {},
          "execution_count": 34
        }
      ]
    },
    {
      "cell_type": "code",
      "metadata": {
        "colab": {
          "base_uri": "https://localhost:8080/"
        },
        "id": "ttGq3uno2-SZ",
        "outputId": "613dc97b-e74f-4e1c-bbb9-d590b1e8a6bd"
      },
      "source": [
        "print('This is i: ',i)"
      ],
      "execution_count": null,
      "outputs": [
        {
          "output_type": "stream",
          "name": "stdout",
          "text": [
            "This is i:  32\n"
          ]
        }
      ]
    },
    {
      "cell_type": "markdown",
      "metadata": {
        "id": "iFqb2uQiLB5f"
      },
      "source": [
        "## **Loops and List Comprehension**"
      ]
    },
    {
      "cell_type": "markdown",
      "metadata": {
        "id": "maRBztf1VXpk"
      },
      "source": [
        "Operators"
      ]
    },
    {
      "cell_type": "code",
      "metadata": {
        "id": "EjYyBE_7VZJD"
      },
      "source": [
        "#Examples of operators\n",
        "x = 1 + 2\n",
        "y = 1/2\n",
        "\n",
        "z = 4%2\n",
        "\n",
        "a = 1*2\n",
        "\n"
      ],
      "execution_count": null,
      "outputs": []
    },
    {
      "cell_type": "code",
      "metadata": {
        "colab": {
          "base_uri": "https://localhost:8080/"
        },
        "id": "ghVFKuWkWCol",
        "outputId": "a4de7897-fa9b-4b2e-d0e9-e2ade37236e4"
      },
      "source": [
        "print(x)\n",
        "print(y)\n",
        "print(z)\n",
        "print(a)"
      ],
      "execution_count": null,
      "outputs": [
        {
          "output_type": "stream",
          "name": "stdout",
          "text": [
            "3\n",
            "0.5\n",
            "0\n",
            "2\n"
          ]
        }
      ]
    },
    {
      "cell_type": "code",
      "metadata": {
        "colab": {
          "base_uri": "https://localhost:8080/"
        },
        "id": "ZnUz0eL_V-_1",
        "outputId": "ed6a491d-e01f-4f24-a8b4-17fd8f5bcee0"
      },
      "source": [
        "print(a == z) #not the same as a = z\n",
        "\n",
        "print(a != z)\n",
        "\n",
        "print(a > z)\n",
        "\n",
        "print(a <= z)"
      ],
      "execution_count": null,
      "outputs": [
        {
          "output_type": "stream",
          "name": "stdout",
          "text": [
            "False\n",
            "True\n",
            "True\n",
            "False\n"
          ]
        }
      ]
    },
    {
      "cell_type": "code",
      "metadata": {
        "colab": {
          "base_uri": "https://localhost:8080/"
        },
        "id": "p-aFUVc4LD_L",
        "outputId": "b88f4b40-9fce-499d-863f-248fa0203603"
      },
      "source": [
        "~(a == z)"
      ],
      "execution_count": null,
      "outputs": [
        {
          "output_type": "execute_result",
          "data": {
            "text/plain": [
              "-1"
            ]
          },
          "metadata": {},
          "execution_count": 39
        }
      ]
    },
    {
      "cell_type": "code",
      "metadata": {
        "colab": {
          "base_uri": "https://localhost:8080/"
        },
        "id": "ua4Ge2j8WZWG",
        "outputId": "25804ebf-7024-4655-fc4f-2b18aabff1af"
      },
      "source": [
        "#AND , OR operators\n",
        "#&, |, ^\n",
        "\n",
        "print((a > z) & (a != z)) #True & True\n"
      ],
      "execution_count": null,
      "outputs": [
        {
          "output_type": "stream",
          "name": "stdout",
          "text": [
            "True\n"
          ]
        }
      ]
    },
    {
      "cell_type": "markdown",
      "metadata": {
        "id": "69Q2ZkRwWy8V"
      },
      "source": [
        "Looping (Indentation very important here!)"
      ]
    },
    {
      "cell_type": "code",
      "metadata": {
        "colab": {
          "base_uri": "https://localhost:8080/"
        },
        "id": "AW7LQ2lwW0F4",
        "outputId": "3e66d372-981b-4e7d-cc1b-4a4233292c65"
      },
      "source": [
        "#Set condition\n",
        "if (a > 0):\n",
        "  #Action if condition True\n",
        "  print('Nonzero!')"
      ],
      "execution_count": null,
      "outputs": [
        {
          "output_type": "stream",
          "name": "stdout",
          "text": [
            "Nonzero!\n"
          ]
        }
      ]
    },
    {
      "cell_type": "code",
      "metadata": {
        "colab": {
          "base_uri": "https://localhost:8080/"
        },
        "id": "VIpcXBGTXXTh",
        "outputId": "36037b06-4771-4bc9-b659-d734dc9e107c"
      },
      "source": [
        "#Make a test list\n",
        "test_list = [1,2,3,4,5]\n",
        "len(test_list)"
      ],
      "execution_count": null,
      "outputs": [
        {
          "output_type": "execute_result",
          "data": {
            "text/plain": [
              "5"
            ]
          },
          "metadata": {},
          "execution_count": 42
        }
      ]
    },
    {
      "cell_type": "code",
      "metadata": {
        "colab": {
          "base_uri": "https://localhost:8080/"
        },
        "id": "RWnb66v2W0Is",
        "outputId": "0486f8bc-5a3d-4705-a08b-4a0c1ac44f59"
      },
      "source": [
        "#Loop through each value in list and print out operation on those values\n",
        "for i in range(len(test_list)):\n",
        "#Range will give you values from 0:5 (0,1,2,3,4)\n",
        "  i += 1\n",
        "  \n",
        "  #Equivalent to i = i + 1\n",
        "\n",
        "  print(i)\n"
      ],
      "execution_count": null,
      "outputs": [
        {
          "output_type": "stream",
          "name": "stdout",
          "text": [
            "1\n",
            "2\n",
            "3\n",
            "4\n",
            "5\n"
          ]
        }
      ]
    },
    {
      "cell_type": "code",
      "metadata": {
        "colab": {
          "base_uri": "https://localhost:8080/"
        },
        "id": "kvfFKVvAXTCQ",
        "outputId": "7768cb3f-cd0f-4c02-d3dd-f1da19a0b9ec"
      },
      "source": [
        "#Example while loop\n",
        "z = 5\n",
        "while(z > 0):\n",
        "  z -= 1\n",
        "  print(z)"
      ],
      "execution_count": null,
      "outputs": [
        {
          "output_type": "stream",
          "name": "stdout",
          "text": [
            "4\n",
            "3\n",
            "2\n",
            "1\n",
            "0\n"
          ]
        }
      ]
    },
    {
      "cell_type": "code",
      "metadata": {
        "colab": {
          "base_uri": "https://localhost:8080/"
        },
        "id": "OhWRX0tRXTFQ",
        "outputId": "74741fba-4121-44b9-8540-805a0804cdf4"
      },
      "source": [
        "#Use += with lists\n",
        "\n",
        "#Add things to empty list\n",
        "example = []\n",
        "\n",
        "example += [2]\n",
        "\n",
        "example"
      ],
      "execution_count": null,
      "outputs": [
        {
          "output_type": "execute_result",
          "data": {
            "text/plain": [
              "[2]"
            ]
          },
          "metadata": {},
          "execution_count": 45
        }
      ]
    },
    {
      "cell_type": "code",
      "metadata": {
        "id": "bK5FoXjo6e9N"
      },
      "source": [
        "example += [3]"
      ],
      "execution_count": null,
      "outputs": []
    },
    {
      "cell_type": "code",
      "metadata": {
        "colab": {
          "base_uri": "https://localhost:8080/"
        },
        "id": "JV3OSZuQ6iqy",
        "outputId": "d586b8cf-726b-4240-d3ef-a93dbcefbad6"
      },
      "source": [
        "example"
      ],
      "execution_count": null,
      "outputs": [
        {
          "output_type": "execute_result",
          "data": {
            "text/plain": [
              "[2, 3]"
            ]
          },
          "metadata": {},
          "execution_count": 47
        }
      ]
    },
    {
      "cell_type": "markdown",
      "metadata": {
        "id": "XrDmd-D7W0YP"
      },
      "source": [
        "List Comprehension (looping through lists and operating on items)"
      ]
    },
    {
      "cell_type": "code",
      "metadata": {
        "id": "_RlriigeW4V1",
        "colab": {
          "base_uri": "https://localhost:8080/"
        },
        "outputId": "dc060e2f-8411-40ec-d47e-665136f88f91"
      },
      "source": [
        "#Loops within list\n",
        "fruits = [\"apple\", \"banana\",\"cherry\",\"kiwi\",\"mango\"]\n",
        "\n",
        "newlist = [x for x in fruits if \"a\" in x]\n",
        "\n",
        "newlist"
      ],
      "execution_count": null,
      "outputs": [
        {
          "output_type": "execute_result",
          "data": {
            "text/plain": [
              "['apple', 'banana', 'mango']"
            ]
          },
          "metadata": {},
          "execution_count": 48
        }
      ]
    },
    {
      "cell_type": "code",
      "metadata": {
        "id": "4pwGFFqUW4Ym",
        "colab": {
          "base_uri": "https://localhost:8080/"
        },
        "outputId": "fdbcaa27-4e0c-4af6-96c5-30bf928bca77"
      },
      "source": [
        "for i in fruits:\n",
        "  print(i)"
      ],
      "execution_count": null,
      "outputs": [
        {
          "output_type": "stream",
          "name": "stdout",
          "text": [
            "apple\n",
            "banana\n",
            "cherry\n",
            "kiwi\n",
            "mango\n"
          ]
        }
      ]
    },
    {
      "cell_type": "markdown",
      "metadata": {
        "id": "MftwR3ypLEtM"
      },
      "source": [
        "## **Functions**"
      ]
    },
    {
      "cell_type": "markdown",
      "metadata": {
        "id": "foxnxM1XqhuU"
      },
      "source": [
        "Define functions when you have a task you want to run multiple times, possibly on different inputs"
      ]
    },
    {
      "cell_type": "code",
      "metadata": {
        "id": "-zNezF7pLJMN"
      },
      "source": [
        "#Define a function\n",
        "def say_hello():\n",
        "  print('Hello World!')"
      ],
      "execution_count": null,
      "outputs": []
    },
    {
      "cell_type": "code",
      "metadata": {
        "colab": {
          "base_uri": "https://localhost:8080/"
        },
        "id": "mRrOrXyf8NrA",
        "outputId": "0aaa9b84-1253-43c4-f94f-894518045852"
      },
      "source": [
        "say_hello()\n",
        "say_hello()"
      ],
      "execution_count": null,
      "outputs": [
        {
          "output_type": "stream",
          "name": "stdout",
          "text": [
            "Hello World!\n",
            "Hello World!\n"
          ]
        }
      ]
    },
    {
      "cell_type": "code",
      "metadata": {
        "id": "lWp1iTfFql8s"
      },
      "source": [
        "#Define a function that returns a value\n",
        "def mean(values):\n",
        "  avg = sum(values)/len(values)\n",
        "  return avg"
      ],
      "execution_count": null,
      "outputs": []
    },
    {
      "cell_type": "code",
      "metadata": {
        "id": "OUPr4qcQu2A4",
        "colab": {
          "base_uri": "https://localhost:8080/"
        },
        "outputId": "6e8b8dd9-ae9d-41fe-d88d-a0d73d26bdc9"
      },
      "source": [
        "#Call function with input\n",
        "mean([1,2,3])"
      ],
      "execution_count": null,
      "outputs": [
        {
          "output_type": "execute_result",
          "data": {
            "text/plain": [
              "2.0"
            ]
          },
          "metadata": {},
          "execution_count": 53
        }
      ]
    },
    {
      "cell_type": "markdown",
      "metadata": {
        "id": "wv6Sn9j4LNDa"
      },
      "source": [
        "## **Useful Packages and Data Types**"
      ]
    },
    {
      "cell_type": "markdown",
      "metadata": {
        "id": "KVO0mEq-rqgj"
      },
      "source": [
        "Numpy (faster calculations with arrays/matrices)"
      ]
    },
    {
      "cell_type": "code",
      "metadata": {
        "colab": {
          "base_uri": "https://localhost:8080/"
        },
        "id": "6fXrkeuzLP12",
        "outputId": "b0c2ceec-9091-4fe4-f856-c951e57d2008"
      },
      "source": [
        "import numpy as np #np is abbreviation\n",
        "\n",
        "#Call functions within numpy package\n",
        "np.mean([1,2,3])"
      ],
      "execution_count": null,
      "outputs": [
        {
          "output_type": "execute_result",
          "data": {
            "text/plain": [
              "2.0"
            ]
          },
          "metadata": {},
          "execution_count": 54
        }
      ]
    },
    {
      "cell_type": "code",
      "metadata": {
        "id": "M_ZvYmkPvlv0",
        "colab": {
          "base_uri": "https://localhost:8080/"
        },
        "outputId": "783e80da-9d13-4fff-f9d5-43995905b588"
      },
      "source": [
        "#Test on numpy array\n",
        "arr = np.array([1,2,3,4])\n",
        "arr.mean()"
      ],
      "execution_count": null,
      "outputs": [
        {
          "output_type": "execute_result",
          "data": {
            "text/plain": [
              "2.5"
            ]
          },
          "metadata": {},
          "execution_count": 55
        }
      ]
    },
    {
      "cell_type": "code",
      "metadata": {
        "id": "sSdOsbPjvuI-",
        "colab": {
          "base_uri": "https://localhost:8080/"
        },
        "outputId": "dab82606-c5e3-4c85-afdc-915ffcc4dbed"
      },
      "source": [
        "#Access values\n",
        "\n",
        "arr[3] = 6\n",
        "arr\n",
        "#Every other value"
      ],
      "execution_count": null,
      "outputs": [
        {
          "output_type": "execute_result",
          "data": {
            "text/plain": [
              "array([1, 2, 3, 6])"
            ]
          },
          "metadata": {},
          "execution_count": 56
        }
      ]
    },
    {
      "cell_type": "code",
      "metadata": {
        "colab": {
          "base_uri": "https://localhost:8080/"
        },
        "id": "entb3jxev1AP",
        "outputId": "639ff395-3ef2-4da8-bd1f-cc4343e489a6"
      },
      "source": [
        "#Create `empty' array\n",
        "arr = np.zeros((2,3))\n",
        "arr"
      ],
      "execution_count": null,
      "outputs": [
        {
          "output_type": "execute_result",
          "data": {
            "text/plain": [
              "array([[0., 0., 0.],\n",
              "       [0., 0., 0.]])"
            ]
          },
          "metadata": {},
          "execution_count": 57
        }
      ]
    },
    {
      "cell_type": "code",
      "metadata": {
        "colab": {
          "base_uri": "https://localhost:8080/"
        },
        "id": "uXxZLLNS8-tl",
        "outputId": "7ad55913-8cdd-4e69-9fb3-154e15111612"
      },
      "source": [
        "arr[0,1] = 1\n",
        "arr"
      ],
      "execution_count": null,
      "outputs": [
        {
          "output_type": "execute_result",
          "data": {
            "text/plain": [
              "array([[0., 1., 0.],\n",
              "       [0., 0., 0.]])"
            ]
          },
          "metadata": {},
          "execution_count": 58
        }
      ]
    },
    {
      "cell_type": "markdown",
      "metadata": {
        "id": "E22GWy07rrbg"
      },
      "source": [
        "Pandas"
      ]
    },
    {
      "cell_type": "code",
      "metadata": {
        "id": "q_buqZiZrr5M"
      },
      "source": [
        "import pandas as pd"
      ],
      "execution_count": null,
      "outputs": []
    },
    {
      "cell_type": "code",
      "metadata": {
        "id": "31MMAhHDwMBv"
      },
      "source": [
        "#Large lookup table/dictionary --> pandas DataFrame\n",
        "df = pd.DataFrame()"
      ],
      "execution_count": null,
      "outputs": []
    },
    {
      "cell_type": "code",
      "metadata": {
        "id": "v3jcF-hfwME3",
        "colab": {
          "base_uri": "https://localhost:8080/",
          "height": 143
        },
        "outputId": "be39e945-999e-41f8-8348-88fb82f33e4f"
      },
      "source": [
        "#Populate dataframe\n",
        "df['Names'] = ['Amy','James','Kelly']\n",
        "df['Ages'] = [22,24,26]\n",
        "df"
      ],
      "execution_count": null,
      "outputs": [
        {
          "output_type": "execute_result",
          "data": {
            "text/plain": [
              "   Names  Ages\n",
              "0    Amy    22\n",
              "1  James    24\n",
              "2  Kelly    26"
            ],
            "text/html": [
              "\n",
              "  <div id=\"df-247c35ef-bad9-4b71-b9ad-60d01f046774\">\n",
              "    <div class=\"colab-df-container\">\n",
              "      <div>\n",
              "<style scoped>\n",
              "    .dataframe tbody tr th:only-of-type {\n",
              "        vertical-align: middle;\n",
              "    }\n",
              "\n",
              "    .dataframe tbody tr th {\n",
              "        vertical-align: top;\n",
              "    }\n",
              "\n",
              "    .dataframe thead th {\n",
              "        text-align: right;\n",
              "    }\n",
              "</style>\n",
              "<table border=\"1\" class=\"dataframe\">\n",
              "  <thead>\n",
              "    <tr style=\"text-align: right;\">\n",
              "      <th></th>\n",
              "      <th>Names</th>\n",
              "      <th>Ages</th>\n",
              "    </tr>\n",
              "  </thead>\n",
              "  <tbody>\n",
              "    <tr>\n",
              "      <th>0</th>\n",
              "      <td>Amy</td>\n",
              "      <td>22</td>\n",
              "    </tr>\n",
              "    <tr>\n",
              "      <th>1</th>\n",
              "      <td>James</td>\n",
              "      <td>24</td>\n",
              "    </tr>\n",
              "    <tr>\n",
              "      <th>2</th>\n",
              "      <td>Kelly</td>\n",
              "      <td>26</td>\n",
              "    </tr>\n",
              "  </tbody>\n",
              "</table>\n",
              "</div>\n",
              "      <button class=\"colab-df-convert\" onclick=\"convertToInteractive('df-247c35ef-bad9-4b71-b9ad-60d01f046774')\"\n",
              "              title=\"Convert this dataframe to an interactive table.\"\n",
              "              style=\"display:none;\">\n",
              "        \n",
              "  <svg xmlns=\"http://www.w3.org/2000/svg\" height=\"24px\"viewBox=\"0 0 24 24\"\n",
              "       width=\"24px\">\n",
              "    <path d=\"M0 0h24v24H0V0z\" fill=\"none\"/>\n",
              "    <path d=\"M18.56 5.44l.94 2.06.94-2.06 2.06-.94-2.06-.94-.94-2.06-.94 2.06-2.06.94zm-11 1L8.5 8.5l.94-2.06 2.06-.94-2.06-.94L8.5 2.5l-.94 2.06-2.06.94zm10 10l.94 2.06.94-2.06 2.06-.94-2.06-.94-.94-2.06-.94 2.06-2.06.94z\"/><path d=\"M17.41 7.96l-1.37-1.37c-.4-.4-.92-.59-1.43-.59-.52 0-1.04.2-1.43.59L10.3 9.45l-7.72 7.72c-.78.78-.78 2.05 0 2.83L4 21.41c.39.39.9.59 1.41.59.51 0 1.02-.2 1.41-.59l7.78-7.78 2.81-2.81c.8-.78.8-2.07 0-2.86zM5.41 20L4 18.59l7.72-7.72 1.47 1.35L5.41 20z\"/>\n",
              "  </svg>\n",
              "      </button>\n",
              "      \n",
              "  <style>\n",
              "    .colab-df-container {\n",
              "      display:flex;\n",
              "      flex-wrap:wrap;\n",
              "      gap: 12px;\n",
              "    }\n",
              "\n",
              "    .colab-df-convert {\n",
              "      background-color: #E8F0FE;\n",
              "      border: none;\n",
              "      border-radius: 50%;\n",
              "      cursor: pointer;\n",
              "      display: none;\n",
              "      fill: #1967D2;\n",
              "      height: 32px;\n",
              "      padding: 0 0 0 0;\n",
              "      width: 32px;\n",
              "    }\n",
              "\n",
              "    .colab-df-convert:hover {\n",
              "      background-color: #E2EBFA;\n",
              "      box-shadow: 0px 1px 2px rgba(60, 64, 67, 0.3), 0px 1px 3px 1px rgba(60, 64, 67, 0.15);\n",
              "      fill: #174EA6;\n",
              "    }\n",
              "\n",
              "    [theme=dark] .colab-df-convert {\n",
              "      background-color: #3B4455;\n",
              "      fill: #D2E3FC;\n",
              "    }\n",
              "\n",
              "    [theme=dark] .colab-df-convert:hover {\n",
              "      background-color: #434B5C;\n",
              "      box-shadow: 0px 1px 3px 1px rgba(0, 0, 0, 0.15);\n",
              "      filter: drop-shadow(0px 1px 2px rgba(0, 0, 0, 0.3));\n",
              "      fill: #FFFFFF;\n",
              "    }\n",
              "  </style>\n",
              "\n",
              "      <script>\n",
              "        const buttonEl =\n",
              "          document.querySelector('#df-247c35ef-bad9-4b71-b9ad-60d01f046774 button.colab-df-convert');\n",
              "        buttonEl.style.display =\n",
              "          google.colab.kernel.accessAllowed ? 'block' : 'none';\n",
              "\n",
              "        async function convertToInteractive(key) {\n",
              "          const element = document.querySelector('#df-247c35ef-bad9-4b71-b9ad-60d01f046774');\n",
              "          const dataTable =\n",
              "            await google.colab.kernel.invokeFunction('convertToInteractive',\n",
              "                                                     [key], {});\n",
              "          if (!dataTable) return;\n",
              "\n",
              "          const docLinkHtml = 'Like what you see? Visit the ' +\n",
              "            '<a target=\"_blank\" href=https://colab.research.google.com/notebooks/data_table.ipynb>data table notebook</a>'\n",
              "            + ' to learn more about interactive tables.';\n",
              "          element.innerHTML = '';\n",
              "          dataTable['output_type'] = 'display_data';\n",
              "          await google.colab.output.renderOutput(dataTable, element);\n",
              "          const docLink = document.createElement('div');\n",
              "          docLink.innerHTML = docLinkHtml;\n",
              "          element.appendChild(docLink);\n",
              "        }\n",
              "      </script>\n",
              "    </div>\n",
              "  </div>\n",
              "  "
            ]
          },
          "metadata": {},
          "execution_count": 61
        }
      ]
    },
    {
      "cell_type": "code",
      "metadata": {
        "id": "KaEpOUYMwPnt",
        "colab": {
          "base_uri": "https://localhost:8080/"
        },
        "outputId": "b9920f16-3464-4a21-f646-fe52927a39b0"
      },
      "source": [
        "#See df['Names'] column\n",
        "df.Names"
      ],
      "execution_count": null,
      "outputs": [
        {
          "output_type": "execute_result",
          "data": {
            "text/plain": [
              "0      Amy\n",
              "1    James\n",
              "2    Kelly\n",
              "Name: Names, dtype: object"
            ]
          },
          "metadata": {},
          "execution_count": 62
        }
      ]
    },
    {
      "cell_type": "code",
      "metadata": {
        "id": "L1nalilAwoJJ",
        "colab": {
          "base_uri": "https://localhost:8080/"
        },
        "outputId": "04cf9aec-803e-40e4-8aa1-65fadb6b06ce"
      },
      "source": [
        "#Check for conditions\n",
        "df['Names'].isin(['Amy','Kelly'])"
      ],
      "execution_count": null,
      "outputs": [
        {
          "output_type": "execute_result",
          "data": {
            "text/plain": [
              "0     True\n",
              "1    False\n",
              "2     True\n",
              "Name: Names, dtype: bool"
            ]
          },
          "metadata": {},
          "execution_count": 63
        }
      ]
    },
    {
      "cell_type": "code",
      "metadata": {
        "id": "lfPbPNLOwtu8",
        "colab": {
          "base_uri": "https://localhost:8080/",
          "height": 112
        },
        "outputId": "2adbd9ac-ea60-496a-d191-5bd050f1094f"
      },
      "source": [
        "#Subset your dataframe with conditions\n",
        "df[df['Names'].isin(['Amy','Kelly'])]"
      ],
      "execution_count": null,
      "outputs": [
        {
          "output_type": "execute_result",
          "data": {
            "text/plain": [
              "   Names  Ages\n",
              "0    Amy    22\n",
              "2  Kelly    26"
            ],
            "text/html": [
              "\n",
              "  <div id=\"df-01d3171b-d2cc-4353-960e-06ef1c3f7479\">\n",
              "    <div class=\"colab-df-container\">\n",
              "      <div>\n",
              "<style scoped>\n",
              "    .dataframe tbody tr th:only-of-type {\n",
              "        vertical-align: middle;\n",
              "    }\n",
              "\n",
              "    .dataframe tbody tr th {\n",
              "        vertical-align: top;\n",
              "    }\n",
              "\n",
              "    .dataframe thead th {\n",
              "        text-align: right;\n",
              "    }\n",
              "</style>\n",
              "<table border=\"1\" class=\"dataframe\">\n",
              "  <thead>\n",
              "    <tr style=\"text-align: right;\">\n",
              "      <th></th>\n",
              "      <th>Names</th>\n",
              "      <th>Ages</th>\n",
              "    </tr>\n",
              "  </thead>\n",
              "  <tbody>\n",
              "    <tr>\n",
              "      <th>0</th>\n",
              "      <td>Amy</td>\n",
              "      <td>22</td>\n",
              "    </tr>\n",
              "    <tr>\n",
              "      <th>2</th>\n",
              "      <td>Kelly</td>\n",
              "      <td>26</td>\n",
              "    </tr>\n",
              "  </tbody>\n",
              "</table>\n",
              "</div>\n",
              "      <button class=\"colab-df-convert\" onclick=\"convertToInteractive('df-01d3171b-d2cc-4353-960e-06ef1c3f7479')\"\n",
              "              title=\"Convert this dataframe to an interactive table.\"\n",
              "              style=\"display:none;\">\n",
              "        \n",
              "  <svg xmlns=\"http://www.w3.org/2000/svg\" height=\"24px\"viewBox=\"0 0 24 24\"\n",
              "       width=\"24px\">\n",
              "    <path d=\"M0 0h24v24H0V0z\" fill=\"none\"/>\n",
              "    <path d=\"M18.56 5.44l.94 2.06.94-2.06 2.06-.94-2.06-.94-.94-2.06-.94 2.06-2.06.94zm-11 1L8.5 8.5l.94-2.06 2.06-.94-2.06-.94L8.5 2.5l-.94 2.06-2.06.94zm10 10l.94 2.06.94-2.06 2.06-.94-2.06-.94-.94-2.06-.94 2.06-2.06.94z\"/><path d=\"M17.41 7.96l-1.37-1.37c-.4-.4-.92-.59-1.43-.59-.52 0-1.04.2-1.43.59L10.3 9.45l-7.72 7.72c-.78.78-.78 2.05 0 2.83L4 21.41c.39.39.9.59 1.41.59.51 0 1.02-.2 1.41-.59l7.78-7.78 2.81-2.81c.8-.78.8-2.07 0-2.86zM5.41 20L4 18.59l7.72-7.72 1.47 1.35L5.41 20z\"/>\n",
              "  </svg>\n",
              "      </button>\n",
              "      \n",
              "  <style>\n",
              "    .colab-df-container {\n",
              "      display:flex;\n",
              "      flex-wrap:wrap;\n",
              "      gap: 12px;\n",
              "    }\n",
              "\n",
              "    .colab-df-convert {\n",
              "      background-color: #E8F0FE;\n",
              "      border: none;\n",
              "      border-radius: 50%;\n",
              "      cursor: pointer;\n",
              "      display: none;\n",
              "      fill: #1967D2;\n",
              "      height: 32px;\n",
              "      padding: 0 0 0 0;\n",
              "      width: 32px;\n",
              "    }\n",
              "\n",
              "    .colab-df-convert:hover {\n",
              "      background-color: #E2EBFA;\n",
              "      box-shadow: 0px 1px 2px rgba(60, 64, 67, 0.3), 0px 1px 3px 1px rgba(60, 64, 67, 0.15);\n",
              "      fill: #174EA6;\n",
              "    }\n",
              "\n",
              "    [theme=dark] .colab-df-convert {\n",
              "      background-color: #3B4455;\n",
              "      fill: #D2E3FC;\n",
              "    }\n",
              "\n",
              "    [theme=dark] .colab-df-convert:hover {\n",
              "      background-color: #434B5C;\n",
              "      box-shadow: 0px 1px 3px 1px rgba(0, 0, 0, 0.15);\n",
              "      filter: drop-shadow(0px 1px 2px rgba(0, 0, 0, 0.3));\n",
              "      fill: #FFFFFF;\n",
              "    }\n",
              "  </style>\n",
              "\n",
              "      <script>\n",
              "        const buttonEl =\n",
              "          document.querySelector('#df-01d3171b-d2cc-4353-960e-06ef1c3f7479 button.colab-df-convert');\n",
              "        buttonEl.style.display =\n",
              "          google.colab.kernel.accessAllowed ? 'block' : 'none';\n",
              "\n",
              "        async function convertToInteractive(key) {\n",
              "          const element = document.querySelector('#df-01d3171b-d2cc-4353-960e-06ef1c3f7479');\n",
              "          const dataTable =\n",
              "            await google.colab.kernel.invokeFunction('convertToInteractive',\n",
              "                                                     [key], {});\n",
              "          if (!dataTable) return;\n",
              "\n",
              "          const docLinkHtml = 'Like what you see? Visit the ' +\n",
              "            '<a target=\"_blank\" href=https://colab.research.google.com/notebooks/data_table.ipynb>data table notebook</a>'\n",
              "            + ' to learn more about interactive tables.';\n",
              "          element.innerHTML = '';\n",
              "          dataTable['output_type'] = 'display_data';\n",
              "          await google.colab.output.renderOutput(dataTable, element);\n",
              "          const docLink = document.createElement('div');\n",
              "          docLink.innerHTML = docLinkHtml;\n",
              "          element.appendChild(docLink);\n",
              "        }\n",
              "      </script>\n",
              "    </div>\n",
              "  </div>\n",
              "  "
            ]
          },
          "metadata": {},
          "execution_count": 64
        }
      ]
    },
    {
      "cell_type": "code",
      "source": [],
      "metadata": {
        "id": "PUVpMhxDAoJp"
      },
      "execution_count": null,
      "outputs": []
    }
  ]
}