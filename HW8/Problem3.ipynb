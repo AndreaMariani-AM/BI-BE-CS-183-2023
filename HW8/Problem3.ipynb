{
  "nbformat": 4,
  "nbformat_minor": 0,
  "metadata": {
    "colab": {
      "provenance": [],
      "include_colab_link": true
    },
    "kernelspec": {
      "name": "python3",
      "display_name": "Python 3"
    },
    "language_info": {
      "name": "python"
    }
  },
  "cells": [
    {
      "cell_type": "markdown",
      "metadata": {
        "id": "view-in-github",
        "colab_type": "text"
      },
      "source": [
        "<a href=\"https://colab.research.google.com/github/pachterlab/BI-BE-CS-183-2023/blob/main/HW8/Problem3.ipynb\" target=\"_parent\"><img src=\"https://colab.research.google.com/assets/colab-badge.svg\" alt=\"Open In Colab\"/></a>"
      ]
    },
    {
      "cell_type": "markdown",
      "metadata": {
        "id": "MozW3XxY8ezr"
      },
      "source": [
        "Bi/Be/Cs 183 2022-2023: Intro to Computational Biology\n",
        "TAs: Meichen Fang, Tara Chari, Zitong (Jerry) Wang\n",
        "\n",
        "**Submit your notebooks by sharing a clickable link with Viewer access. Link must be accessible from submitted assignment document.**\n",
        "\n",
        "Make sure Runtime $\\rightarrow$ Restart and run all works without error"
      ]
    },
    {
      "cell_type": "markdown",
      "source": [
        "# HW 8 Problem 3\n",
        "\n",
        "Chimpanzees are the closest living relatives to humans. Here we will be looking at differences between the two genomes. \n",
        "\n",
        "In this problem you will implement the Needleman-Wunsch algorithm for global alignment between a pair of sequences of human and chimpanzee FOXP2 genes [1]. You will be reading in a FASTA file of DNA sequences and run the algorithm to find their optimal alignment given a set of rewards and penalties for the possible nucleotide pairs. This algorithm allows for gaps in the alignment, and constructs the global optimal alignment by iteratively finding the solutions for sets of small subsequences and their alignments.\n",
        "\n",
        "FOXP2 is a gene that has been implicated in speech and language development in humans, where mutations in the gene can inhibit speech. Interestingly, FOXP2s sequence and function are different between chimpanzees and humans, and its mechanism(s) is an area of study for researchers in understanding how we process and develop language.\n",
        "\n",
        "[1] Enard W, Przeworski M, Fisher SE, Lai CS, Wiebe V, Kitano T, Monaco AP, Pääbo S. Molecular evolution of FOXP2, a gene involved in speech and language. Nature. 2002 Aug 22;418(6900):869-72. doi: 10.1038/nature01025. Epub 2002 Aug 14. PMID: 12192408.\n",
        "\n"
      ],
      "metadata": {
        "id": "Mu4obGyqS8fh"
      }
    },
    {
      "cell_type": "markdown",
      "source": [
        "##**Import data and install packages**"
      ],
      "metadata": {
        "id": "fJ8J92ntz2rk"
      }
    },
    {
      "cell_type": "code",
      "execution_count": 1,
      "metadata": {
        "id": "rjy8W5hly24q"
      },
      "outputs": [],
      "source": [
        "import numpy as np\n",
        "import scipy.io as sio\n",
        "import pandas as pd\n",
        "import matplotlib.pyplot as plt #Can use other plotting packages like seaborn"
      ]
    },
    {
      "cell_type": "code",
      "metadata": {
        "id": "yH-EpSmB9Y_x",
        "colab": {
          "base_uri": "https://localhost:8080/"
        },
        "outputId": "953f3967-ea79-4ec5-ec78-2f5af4bb5339"
      },
      "source": [
        "#Download the FASTA file with a pair of nucleotide sequences\n",
        "\n",
        "!wget --content-disposition 'https://drive.google.com/uc?export=download&id=1GFYciWTl2Objrplb1XqNa0pWzTBvXbsm'\n"
      ],
      "execution_count": 2,
      "outputs": [
        {
          "output_type": "stream",
          "name": "stdout",
          "text": [
            "--2023-02-22 23:30:13--  https://drive.google.com/uc?export=download&id=1GFYciWTl2Objrplb1XqNa0pWzTBvXbsm\n",
            "Resolving drive.google.com (drive.google.com)... 108.177.112.139, 108.177.112.102, 108.177.112.113, ...\n",
            "Connecting to drive.google.com (drive.google.com)|108.177.112.139|:443... connected.\n",
            "HTTP request sent, awaiting response... 303 See Other\n",
            "Location: https://doc-0k-3c-docs.googleusercontent.com/docs/securesc/ha0ro937gcuc7l7deffksulhg5h7mbp1/1d4esi84mt7264lbhjpbjp723o0si2k5/1677108600000/14515314329444727017/*/1GFYciWTl2Objrplb1XqNa0pWzTBvXbsm?e=download&uuid=4079cb17-8a1a-4326-9f61-6e84ab14e7e9 [following]\n",
            "Warning: wildcards not supported in HTTP.\n",
            "--2023-02-22 23:30:14--  https://doc-0k-3c-docs.googleusercontent.com/docs/securesc/ha0ro937gcuc7l7deffksulhg5h7mbp1/1d4esi84mt7264lbhjpbjp723o0si2k5/1677108600000/14515314329444727017/*/1GFYciWTl2Objrplb1XqNa0pWzTBvXbsm?e=download&uuid=4079cb17-8a1a-4326-9f61-6e84ab14e7e9\n",
            "Resolving doc-0k-3c-docs.googleusercontent.com (doc-0k-3c-docs.googleusercontent.com)... 173.194.197.132, 2607:f8b0:4001:c1b::84\n",
            "Connecting to doc-0k-3c-docs.googleusercontent.com (doc-0k-3c-docs.googleusercontent.com)|173.194.197.132|:443... connected.\n",
            "HTTP request sent, awaiting response... 200 OK\n",
            "Length: 49 [application/octet-stream]\n",
            "Saving to: ‘seqs.fasta’\n",
            "\n",
            "seqs.fasta          100%[===================>]      49  --.-KB/s    in 0s      \n",
            "\n",
            "2023-02-22 23:30:14 (2.98 MB/s) - ‘seqs.fasta’ saved [49/49]\n",
            "\n"
          ]
        }
      ]
    },
    {
      "cell_type": "markdown",
      "source": [
        "## **Read in data for analysis**"
      ],
      "metadata": {
        "id": "PpeuucqgiDPx"
      }
    },
    {
      "cell_type": "markdown",
      "source": [
        "**The data**"
      ],
      "metadata": {
        "id": "swY2nSDukmXg"
      }
    },
    {
      "cell_type": "markdown",
      "source": [
        "Here we print the contents of the FASTA file of a pair of DNA sequences. FASTA is a common text file format in which nucleotide sequences are stored. Commonly, the name of the sequence follows a '>'. The following line then has the sequence itself, terminated by an '*'."
      ],
      "metadata": {
        "id": "h9dCxq5twLUk"
      }
    },
    {
      "cell_type": "code",
      "source": [
        "#Print the FASTA file we downloaded\n",
        "!cat seqs.fasta"
      ],
      "metadata": {
        "colab": {
          "base_uri": "https://localhost:8080/"
        },
        "id": "njnLSJehwurt",
        "outputId": "7cdef90f-fef6-4e18-86a0-ec10fd2897a0"
      },
      "execution_count": null,
      "outputs": [
        {
          "output_type": "stream",
          "name": "stdout",
          "text": [
            ">sequence1\n",
            "TGCATCAGCC*\n",
            ">sequence2\n",
            "TGCGTCAGTCAGCC*\n"
          ]
        }
      ]
    },
    {
      "cell_type": "markdown",
      "source": [
        "## **Problem 3 (40 points)**"
      ],
      "metadata": {
        "id": "BSNL7Tr7g2z_"
      }
    },
    {
      "cell_type": "markdown",
      "source": [
        "In the Needleman-Wunsch (NW) algorithm we begin by constructing a score matrix $\\mathbf{F}$, an $(m+1)\\times(n+1)$ matrix for two sequences $x,y$ of length $m$ and $n$ respectively. Each entry $i,j$ corresponds to the alignment score of the nucleotides in at $x_i \\text{ and } y_j$.\n",
        "\n",
        "See the example (blank) score matrix for two sequences $x$ = 'GATTACA', $y$ = 'GCATGCT'.\n",
        "\n",
        "Nucleotide pairs can either be aligned to each other (e.g. $F(1,1)$ denotes 'G' mapped to 'G') or to a gap (e.g. $F(1,0)$ denotes 'G' mapped to '-'). Pairs can also be aligned if they do not match (e.g. $F(1,2)$ denotes 'G' mapped to 'A'). \n",
        "\n",
        "\n",
        "\n",
        "\n",
        "\n"
      ],
      "metadata": {
        "id": "4SveJ1yfd5Ay"
      }
    },
    {
      "cell_type": "markdown",
      "source": [
        "<center><img src=\"https://drive.google.com/uc?export=view&id=1Qfzs96bRkU2YJwx8Ss9VcjRN2EPUyLY4\" alt=\"exGrid\" width=\"300\" height=\"300\"><center>"
      ],
      "metadata": {
        "id": "w9RtLXVrq07n"
      }
    },
    {
      "cell_type": "markdown",
      "source": [
        "To calculate a score/entry for $F_{i,j}$, we will use the scores of $F_{i-1,j-1},F_{i-1,j}$ and $F_{i,j-1}$. The score for $F_{i,j}$ is defined as the maximum score of (1) $x_i$ being aligned to $y_j$, (2) $x_i$ being aligned to a gap '-', and (3) $y_j$ being aligned to a gap '-'. Thus the score is calculated as:\n",
        "\n",
        "\\begin{align}\n",
        "F_{i,j} = max\\begin{cases} \n",
        "      F_{i-1,j-1} + s(x_i,y_j) & (1) \\\\\n",
        "      F_{i-1,j} - d & (2) \\\\\n",
        "      F_{i,j-1} - d & (3)\n",
        "   \\end{cases}\n",
        "\\end{align}\n",
        "\n",
        "$s()$ denotes a score function, which we will define below, that returns a reward for two matched nucleotides or a penalty for mismatched bases.\n",
        "We will also set a value for the 'gap penalty' $d$."
      ],
      "metadata": {
        "id": "_rfy3lYVq2V5"
      }
    },
    {
      "cell_type": "markdown",
      "source": [
        "We can draw this score calculation as:"
      ],
      "metadata": {
        "id": "A7R6sTansoYU"
      }
    },
    {
      "cell_type": "markdown",
      "source": [
        "<center><img src=\"https://drive.google.com/uc?export=view&id=1MZf_hZ_7Tprj0hV0rpwsBWXBmrmFvWt_\" alt=\"exScore\" width=\"300\" height=\"160\"><center>"
      ],
      "metadata": {
        "id": "Uk_g9dIl1tHT"
      }
    },
    {
      "cell_type": "markdown",
      "source": [
        "### **a) Read in the DNA sequences from the FASTA file. Extract just the sequence strings, *not including* the asterisk at the end, and print the two strings. (5 points)** \n",
        "\n",
        "You may want to save the two strings as two variables or as a list."
      ],
      "metadata": {
        "id": "49ekjwPBijRu"
      }
    },
    {
      "cell_type": "code",
      "source": [],
      "metadata": {
        "id": "u3C5JfGic-AG"
      },
      "execution_count": null,
      "outputs": []
    },
    {
      "cell_type": "code",
      "source": [],
      "metadata": {
        "id": "gG-GZL0Z4hy3"
      },
      "execution_count": null,
      "outputs": []
    },
    {
      "cell_type": "markdown",
      "source": [
        "### **b) Fill in the boundary conditions of $\\mathbf{F}$. (5 points)**\n",
        "The first column and row denote all bases in that column or row being mapped to gaps '-'. Assuming $F_{0,0} = 0$, fill in row 0 and column 0 accordingly, using a **gap penalty $\\mathbf{d = -2}$**. \n",
        "\n",
        "**Print your full $\\mathbf{F}$ matrix after initialization.**"
      ],
      "metadata": {
        "id": "hMGOe1xHhP77"
      }
    },
    {
      "cell_type": "code",
      "source": [],
      "metadata": {
        "id": "ZSlLlmSnhS4A"
      },
      "execution_count": null,
      "outputs": []
    },
    {
      "cell_type": "code",
      "source": [],
      "metadata": {
        "id": "5v07XqO34haj"
      },
      "execution_count": null,
      "outputs": []
    },
    {
      "cell_type": "markdown",
      "source": [
        "### **c) Implement the s() (score) function. (5 points)**\n",
        "\n",
        "Fill in the s() function below to take in two nucleotide bases and output a **reward of 2** if the bases match, and a **penalty of -1** for mismatched bases."
      ],
      "metadata": {
        "id": "7rbg1mgJhTYx"
      }
    },
    {
      "cell_type": "code",
      "source": [
        "def s():"
      ],
      "metadata": {
        "id": "1OfS1jnxlEgo"
      },
      "execution_count": null,
      "outputs": []
    },
    {
      "cell_type": "code",
      "source": [],
      "metadata": {
        "id": "k0sH_TwL4gzZ"
      },
      "execution_count": null,
      "outputs": []
    },
    {
      "cell_type": "markdown",
      "source": [
        "### **d) Fill in the rest of the $\\mathbf{F}$ matrix, row by row. (5 points)**\n",
        "\n",
        "Fill in the $\\mathbf{F}$ matrix using the score function described in the main Problem statement, using the s() function from **c)** and a **gap penalty $\\mathbf{d = -2}$**.\n",
        "\n",
        "**Print the full final $\\mathbf{F}$ matrix.**"
      ],
      "metadata": {
        "id": "I8VzNwjHlFFf"
      }
    },
    {
      "cell_type": "code",
      "source": [],
      "metadata": {
        "id": "DF8lDqdilfhS"
      },
      "execution_count": null,
      "outputs": []
    },
    {
      "cell_type": "code",
      "source": [],
      "metadata": {
        "id": "lYXpqKlh4gZP"
      },
      "execution_count": null,
      "outputs": []
    },
    {
      "cell_type": "markdown",
      "source": [
        "### **e) Beginning at bottom corner, traceback the alignment and output the final alignment of the two sequences (10 points)**"
      ],
      "metadata": {
        "id": "eEz9p0zOlgSu"
      }
    },
    {
      "cell_type": "markdown",
      "source": [
        "At each step in the traceback we look at the entries that $F_{i,j}$ was derived from, $F_{i-1,j-1}, F_{i-1,j},F_{i,j-1}$. We take a 'step' back to the previous entry that has the max score, and add a pair of symbols/nucleotides to the alignment accordingly.\n",
        "\n",
        "If the step is to (1) $F_{i-1,j-1}$ (diagonal arrow), $x_i$ and $y_j$ are added to the alignment. If the step is to (2) $F_{i-1,j}$ (vertical arrow), $x_i$ and '-' (gap character) are added, or '-' and $y_j$ if (3) $F_{i,j-1}$ (horizontal arrow) is chosen. See arrow diagram below in example traceback."
      ],
      "metadata": {
        "id": "jqRSmq1Ry4Xf"
      }
    },
    {
      "cell_type": "markdown",
      "source": [
        "\n",
        "If there is a tie for the max entry, choose any of the entries in that tie with equal probability. "
      ],
      "metadata": {
        "id": "GFnVPk3Nl_dC"
      }
    },
    {
      "cell_type": "markdown",
      "source": [
        "See an example traceback below, where the red arrows denote the optimal alignment between sequences x: ACGCATCA and y: ACTGATTCA which is:\n",
        "\n",
        "A C T G - A T T C A\n",
        "\n",
        "A C - G C A T - C A\n"
      ],
      "metadata": {
        "id": "HroIcHuavT1l"
      }
    },
    {
      "cell_type": "markdown",
      "source": [
        "Example: Starting at the right corner, we first select the cell with 6 (the i-1, j-1 cell) as it has the max score out of (4,6,4). Thus we choose to align A from x and A from y. The next step selects the cell with 4 (another i-1, j-1 cell), and thus C and C are aligned. In the next step the cell with 6 is selected (i,j-1) thus the T from y is aligned to a gap '-'."
      ],
      "metadata": {
        "id": "h8SXsKENV_8X"
      }
    },
    {
      "cell_type": "markdown",
      "source": [
        "<center><img src=\"https://drive.google.com/uc?export=view&id=17M9wpDRCdDnXKvgSFL7S_nw7ZeIaKC0E\" alt=\"exScore\" width=\"450\" height=\"350\"><center>"
      ],
      "metadata": {
        "id": "SvI2J0E6vV_U"
      }
    },
    {
      "cell_type": "code",
      "source": [],
      "metadata": {
        "id": "SqXxBKKmluYn"
      },
      "execution_count": null,
      "outputs": []
    },
    {
      "cell_type": "code",
      "source": [],
      "metadata": {
        "id": "Xw-Txp0H4ehu"
      },
      "execution_count": null,
      "outputs": []
    },
    {
      "cell_type": "markdown",
      "source": [
        "### **f) Change the score function to adapt the mismatch penalties to account for more or less likely nucleotide substitutions. (5 points)**\n",
        "\n",
        "Transitions within the purine class (A <--> G) or within the pyrimidine class (C <--> T) are more likely and thus have a **penalty of -1**. Transversions, across classes (e.g. A --> T) have a **penalty of -2** as they are less likely.\n",
        "\n",
        "**Define a new s() function to implement these penalty changes.**"
      ],
      "metadata": {
        "id": "JdE9-1Ormnw2"
      }
    },
    {
      "cell_type": "code",
      "source": [
        "def s():"
      ],
      "metadata": {
        "id": "zxQ4kUT2nYjm"
      },
      "execution_count": null,
      "outputs": []
    },
    {
      "cell_type": "code",
      "source": [],
      "metadata": {
        "id": "jnipdNvt4fOH"
      },
      "execution_count": null,
      "outputs": []
    },
    {
      "cell_type": "markdown",
      "source": [
        "### **g) Re-run the NW algorithm with new penalties, report your new final alignment with the penalty changes/new score function in f), and print the full (final) $\\mathbf{F}$ matrix. (5 points)**\n",
        "\n",
        "Use the adapted mismatch penalties in part f) and **set gap penalty d = -4**. This will ensure you a unique alignment solution"
      ],
      "metadata": {
        "id": "vSdXasDvnaTY"
      }
    },
    {
      "cell_type": "code",
      "source": [],
      "metadata": {
        "id": "TbivrQLEngyU"
      },
      "execution_count": null,
      "outputs": []
    },
    {
      "cell_type": "code",
      "source": [],
      "metadata": {
        "id": "fO_1TYBD4fmn"
      },
      "execution_count": null,
      "outputs": []
    }
  ]
}